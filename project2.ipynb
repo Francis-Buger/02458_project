{
 "cells": [
  {
   "cell_type": "code",
   "execution_count": 3,
   "metadata": {},
   "outputs": [],
   "source": [
    "import pdb\n",
    "import os\n",
    "import pandas as pd\n",
    "import torch\n"
   ]
  },
  {
   "cell_type": "code",
   "execution_count": 14,
   "metadata": {},
   "outputs": [
    {
     "name": "stdout",
     "output_type": "stream",
     "text": [
      "5 (7, 5)\n",
      "[[ 0.  2.  4. 24. 24.]\n",
      " [ 0. 17. 24. 24. 24.]\n",
      " [ 0.  0.  0. 10. 14.]\n",
      " [ 4.  8.  7. 20. 22.]\n",
      " [ 9. 15. 19. 24. 24.]\n",
      " [14. 17. 22. 24. 24.]\n",
      " [14. 19. 23. 24. 24.]]\n"
     ]
    }
   ],
   "source": [
    "dataPath = '/Users/francis/Desktop/DTU/classes/02458/02458_project/project2_data/'\n",
    "sourceDataToPandas = []\n",
    "for fileName in os.listdir(dataPath):\n",
    "    tempPath = os.path.join(dataPath,fileName)\n",
    "    tempTXT = pd.read_csv(tempPath, sep='\\s+', header=None).values\n",
    "    # tempTXT = pd.read_csv(tempPath)\n",
    "    sourceDataToPandas.append(tempTXT)\n",
    "print(len(sourceDataToPandas),sourceDataToPandas[0].shape)\n",
    "print(sourceDataToPandas[0])"
   ]
  },
  {
   "cell_type": "code",
   "execution_count": null,
   "metadata": {},
   "outputs": [],
   "source": []
  }
 ],
 "metadata": {
  "interpreter": {
   "hash": "65d93ccae9b7a8da1bf6d50fe0db3aa648af8356577d94801f3b21bb9a56f6a4"
  },
  "kernelspec": {
   "display_name": "Python 3.8.11 64-bit ('course_02450': conda)",
   "language": "python",
   "name": "python3"
  },
  "language_info": {
   "codemirror_mode": {
    "name": "ipython",
    "version": 3
   },
   "file_extension": ".py",
   "mimetype": "text/x-python",
   "name": "python",
   "nbconvert_exporter": "python",
   "pygments_lexer": "ipython3",
   "version": "3.8.11"
  },
  "orig_nbformat": 4
 },
 "nbformat": 4,
 "nbformat_minor": 2
}
