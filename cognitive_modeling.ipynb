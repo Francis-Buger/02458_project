{
  "nbformat": 4,
  "nbformat_minor": 2,
  "metadata": {
    "colab": {
      "name": "cognitive modeling.ipynb",
      "provenance": [],
      "collapsed_sections": []
    },
    "kernelspec": {
      "name": "python3",
      "display_name": "Python 3.8.5 64-bit ('base': conda)"
    },
    "language_info": {
      "name": "python",
      "version": "3.8.5",
      "mimetype": "text/x-python",
      "codemirror_mode": {
        "name": "ipython",
        "version": 3
      },
      "pygments_lexer": "ipython3",
      "nbconvert_exporter": "python",
      "file_extension": ".py"
    },
    "interpreter": {
      "hash": "703a928204dbecb822bee60b54ebbc9b88dce5c87946f8400ce973e1d311bc6f"
    }
  },
  "cells": [
    {
      "cell_type": "code",
      "execution_count": null,
      "source": [
        "# 挂载自己的Google \n",
        "! pip install google.colab\n",
        "from google.colab import drive\n",
        "drive.mount('/content/drive')"
      ],
      "outputs": [],
      "metadata": {
        "colab": {
          "base_uri": "https://localhost:8080/"
        },
        "id": "3vdHUwJhjXXU",
        "outputId": "d03359c8-646e-4ced-87ed-e0b87c33ace2"
      }
    },
    {
      "cell_type": "code",
      "execution_count": 3,
      "source": [
        "import pandas as pd\n",
        "import numpy as np\n",
        "import tabulate\n",
        "from IPython.core.display import HTML\n",
        "import matplotlib.pyplot as plt\n",
        "import pdb"
      ],
      "outputs": [],
      "metadata": {
        "id": "A2RVWzn7j80N"
      }
    },
    {
      "cell_type": "markdown",
      "source": [
        "## a. Questions: \n",
        "> What is the feature of interest? Describe in detail how you selected the images based on the feature of interest and on features of no interest.\n",
        "\n",
        "> answer: the mouth curve"
      ],
      "metadata": {
        "id": "6_HiMlqlabOm"
      }
    },
    {
      "cell_type": "markdown",
      "source": [
        "# Data pre-processing"
      ],
      "metadata": {
        "id": "Je-O5Lp7a1np"
      }
    },
    {
      "cell_type": "markdown",
      "source": [
        "### Load the data in your analysis environment of choice (Matlab, Python, ...)\n",
        "\n",
        "**finish 3.\"Run the experiment\" and 4.a**"
      ],
      "metadata": {
        "id": "Y0fgPzQla75Y"
      }
    },
    {
      "cell_type": "code",
      "execution_count": 4,
      "source": [
        "# filename=r'/content/drive/Othercomputers/我的 MacBook Pro/Desktop/02458/results.txt'\n",
        "# filename=r'/Users/baixiang/Desktop/02458/results.csv'\n",
        "filename = '/Users/francis/Desktop/DTU/classes/02458/Stimulus presentation script/results.txt'\n",
        "attributeNames = ['subject_id','trial_number','stimulus_filename','answer','reaction_time']\n",
        "result = ['Not smiling','Smiling']\n",
        "result_dits = [0, 1]\n",
        "df = pd.read_csv(filename, names = attributeNames)\n",
        "train_data = df.values\n",
        "# show DataFrame data, only 5 head items and 5 tail items\n",
        "display(df.head(5), df.tail(5))\n",
        "# show Numpy data, only first 10 rows\n",
        "display(HTML(tabulate.tabulate(train_data[:9], headers=attributeNames, showindex='always', tablefmt='html')))"
      ],
      "outputs": [
        {
          "output_type": "display_data",
          "data": {
            "text/html": [
              "<div>\n",
              "<style scoped>\n",
              "    .dataframe tbody tr th:only-of-type {\n",
              "        vertical-align: middle;\n",
              "    }\n",
              "\n",
              "    .dataframe tbody tr th {\n",
              "        vertical-align: top;\n",
              "    }\n",
              "\n",
              "    .dataframe thead th {\n",
              "        text-align: right;\n",
              "    }\n",
              "</style>\n",
              "<table border=\"1\" class=\"dataframe\">\n",
              "  <thead>\n",
              "    <tr style=\"text-align: right;\">\n",
              "      <th></th>\n",
              "      <th>subject_id</th>\n",
              "      <th>trial_number</th>\n",
              "      <th>stimulus_filename</th>\n",
              "      <th>answer</th>\n",
              "      <th>reaction_time</th>\n",
              "    </tr>\n",
              "  </thead>\n",
              "  <tbody>\n",
              "    <tr>\n",
              "      <th>0</th>\n",
              "      <td>213</td>\n",
              "      <td>1</td>\n",
              "      <td>ARimage29.png</td>\n",
              "      <td>Smiling</td>\n",
              "      <td>2.5074</td>\n",
              "    </tr>\n",
              "    <tr>\n",
              "      <th>1</th>\n",
              "      <td>213</td>\n",
              "      <td>2</td>\n",
              "      <td>ARimage107.png</td>\n",
              "      <td>Not smiling</td>\n",
              "      <td>0.8390</td>\n",
              "    </tr>\n",
              "    <tr>\n",
              "      <th>2</th>\n",
              "      <td>213</td>\n",
              "      <td>3</td>\n",
              "      <td>ARimage146.png</td>\n",
              "      <td>Not smiling</td>\n",
              "      <td>0.6857</td>\n",
              "    </tr>\n",
              "    <tr>\n",
              "      <th>3</th>\n",
              "      <td>213</td>\n",
              "      <td>4</td>\n",
              "      <td>ARimage244.png</td>\n",
              "      <td>Smiling</td>\n",
              "      <td>0.7164</td>\n",
              "    </tr>\n",
              "    <tr>\n",
              "      <th>4</th>\n",
              "      <td>213</td>\n",
              "      <td>5</td>\n",
              "      <td>ARimage276.png</td>\n",
              "      <td>Not smiling</td>\n",
              "      <td>0.7076</td>\n",
              "    </tr>\n",
              "  </tbody>\n",
              "</table>\n",
              "</div>"
            ],
            "text/plain": [
              "   subject_id  trial_number stimulus_filename       answer  reaction_time\n",
              "0         213             1     ARimage29.png      Smiling         2.5074\n",
              "1         213             2    ARimage107.png  Not smiling         0.8390\n",
              "2         213             3    ARimage146.png  Not smiling         0.6857\n",
              "3         213             4    ARimage244.png      Smiling         0.7164\n",
              "4         213             5    ARimage276.png  Not smiling         0.7076"
            ]
          },
          "metadata": {}
        },
        {
          "output_type": "display_data",
          "data": {
            "text/html": [
              "<div>\n",
              "<style scoped>\n",
              "    .dataframe tbody tr th:only-of-type {\n",
              "        vertical-align: middle;\n",
              "    }\n",
              "\n",
              "    .dataframe tbody tr th {\n",
              "        vertical-align: top;\n",
              "    }\n",
              "\n",
              "    .dataframe thead th {\n",
              "        text-align: right;\n",
              "    }\n",
              "</style>\n",
              "<table border=\"1\" class=\"dataframe\">\n",
              "  <thead>\n",
              "    <tr style=\"text-align: right;\">\n",
              "      <th></th>\n",
              "      <th>subject_id</th>\n",
              "      <th>trial_number</th>\n",
              "      <th>stimulus_filename</th>\n",
              "      <th>answer</th>\n",
              "      <th>reaction_time</th>\n",
              "    </tr>\n",
              "  </thead>\n",
              "  <tbody>\n",
              "    <tr>\n",
              "      <th>889</th>\n",
              "      <td>213120</td>\n",
              "      <td>294</td>\n",
              "      <td>ARimage68.png</td>\n",
              "      <td>Smiling</td>\n",
              "      <td>0.7244</td>\n",
              "    </tr>\n",
              "    <tr>\n",
              "      <th>890</th>\n",
              "      <td>213120</td>\n",
              "      <td>295</td>\n",
              "      <td>ARimage200.png</td>\n",
              "      <td>Not smiling</td>\n",
              "      <td>0.8023</td>\n",
              "    </tr>\n",
              "    <tr>\n",
              "      <th>891</th>\n",
              "      <td>213120</td>\n",
              "      <td>296</td>\n",
              "      <td>ARimage103.png</td>\n",
              "      <td>Not smiling</td>\n",
              "      <td>0.5948</td>\n",
              "    </tr>\n",
              "    <tr>\n",
              "      <th>892</th>\n",
              "      <td>213120</td>\n",
              "      <td>297</td>\n",
              "      <td>ARimage172.png</td>\n",
              "      <td>Smiling</td>\n",
              "      <td>0.6943</td>\n",
              "    </tr>\n",
              "    <tr>\n",
              "      <th>893</th>\n",
              "      <td>213120</td>\n",
              "      <td>298</td>\n",
              "      <td>ARimage211.png</td>\n",
              "      <td>Smiling</td>\n",
              "      <td>0.6674</td>\n",
              "    </tr>\n",
              "  </tbody>\n",
              "</table>\n",
              "</div>"
            ],
            "text/plain": [
              "     subject_id  trial_number stimulus_filename       answer  reaction_time\n",
              "889      213120           294     ARimage68.png      Smiling         0.7244\n",
              "890      213120           295    ARimage200.png  Not smiling         0.8023\n",
              "891      213120           296    ARimage103.png  Not smiling         0.5948\n",
              "892      213120           297    ARimage172.png      Smiling         0.6943\n",
              "893      213120           298    ARimage211.png      Smiling         0.6674"
            ]
          },
          "metadata": {}
        },
        {
          "output_type": "display_data",
          "data": {
            "text/html": [
              "<table>\n",
              "<thead>\n",
              "<tr><th style=\"text-align: right;\">  </th><th style=\"text-align: right;\">  subject_id</th><th style=\"text-align: right;\">  trial_number</th><th>stimulus_filename  </th><th>answer     </th><th style=\"text-align: right;\">  reaction_time</th></tr>\n",
              "</thead>\n",
              "<tbody>\n",
              "<tr><td style=\"text-align: right;\"> 0</td><td style=\"text-align: right;\">         213</td><td style=\"text-align: right;\">             1</td><td>ARimage29.png      </td><td>Smiling    </td><td style=\"text-align: right;\">         2.5074</td></tr>\n",
              "<tr><td style=\"text-align: right;\"> 1</td><td style=\"text-align: right;\">         213</td><td style=\"text-align: right;\">             2</td><td>ARimage107.png     </td><td>Not smiling</td><td style=\"text-align: right;\">         0.839 </td></tr>\n",
              "<tr><td style=\"text-align: right;\"> 2</td><td style=\"text-align: right;\">         213</td><td style=\"text-align: right;\">             3</td><td>ARimage146.png     </td><td>Not smiling</td><td style=\"text-align: right;\">         0.6857</td></tr>\n",
              "<tr><td style=\"text-align: right;\"> 3</td><td style=\"text-align: right;\">         213</td><td style=\"text-align: right;\">             4</td><td>ARimage244.png     </td><td>Smiling    </td><td style=\"text-align: right;\">         0.7164</td></tr>\n",
              "<tr><td style=\"text-align: right;\"> 4</td><td style=\"text-align: right;\">         213</td><td style=\"text-align: right;\">             5</td><td>ARimage276.png     </td><td>Not smiling</td><td style=\"text-align: right;\">         0.7076</td></tr>\n",
              "<tr><td style=\"text-align: right;\"> 5</td><td style=\"text-align: right;\">         213</td><td style=\"text-align: right;\">             6</td><td>ARimage97.png      </td><td>Not smiling</td><td style=\"text-align: right;\">         0.6863</td></tr>\n",
              "<tr><td style=\"text-align: right;\"> 6</td><td style=\"text-align: right;\">         213</td><td style=\"text-align: right;\">             7</td><td>ARimage168.png     </td><td>Not smiling</td><td style=\"text-align: right;\">         0.9747</td></tr>\n",
              "<tr><td style=\"text-align: right;\"> 7</td><td style=\"text-align: right;\">         213</td><td style=\"text-align: right;\">             8</td><td>ARimage270.png     </td><td>Not smiling</td><td style=\"text-align: right;\">         0.8137</td></tr>\n",
              "<tr><td style=\"text-align: right;\"> 8</td><td style=\"text-align: right;\">         213</td><td style=\"text-align: right;\">             9</td><td>ARimage264.png     </td><td>Not smiling</td><td style=\"text-align: right;\">         1.1978</td></tr>\n",
              "</tbody>\n",
              "</table>"
            ],
            "text/plain": [
              "<IPython.core.display.HTML object>"
            ]
          },
          "metadata": {}
        }
      ],
      "metadata": {
        "colab": {
          "base_uri": "https://localhost:8080/",
          "height": 797
        },
        "id": "qywnqzZxaWcT",
        "outputId": "24387af5-ff8f-45d9-f76d-5e6531148329"
      }
    },
    {
      "cell_type": "markdown",
      "source": [
        "### Consider removing outliers for the reaction time (above several seconds, below 200ms)\n",
        "\n",
        "**finish 4.b**\n",
        "\n",
        "There are two method:\n",
        "1. if values > μ + 3σ and values < μ—3σ, I suppose they are outliers\n",
        "2. if values > 1s and values < 200ms, I suppose they are outliers (from the project instruction)\n",
        "\n",
        "I choose the second one, cause it's seems really efficient"
      ],
      "metadata": {
        "id": "cZvvDFMbNs4M"
      }
    },
    {
      "cell_type": "code",
      "execution_count": 6,
      "source": [
        "mean = train_data[:,4].mean()                   # caluate the mean of the data we collected\n",
        "std  = train_data[:,4].std()                    # caluate the Standard deviation of the data we collected\n",
        "\n",
        "# 看有多少个测试者\n",
        "observer_ID = sorted(set(train_data[:,0]))      # abstract the observer's ID\n",
        "# observer_ID = np.unique(train_data[:,0])\n",
        "print(\"observer_ID\",observer_ID)\n",
        "\n",
        "N = len(observer_ID)                            # count the amount of observer involved in our experiment\n",
        "\n",
        "# show them all\n",
        "print('There are', N, 'observers in the train dataset')\n",
        "print('And they are', observer_ID)\n",
        "print('The average reaction time of all the observers is', mean, 's, and the variance is', std)\n",
        "\n",
        "# define the outlier threshod\n",
        "upper_threshod, lower_threshod = 1, 0.2\n",
        "\n",
        "'''clean the data, weed out outliers'''\n",
        "X = []  # empty list to save the cleaned data\n",
        "\n",
        "# counter of outliers\n",
        "outliter = 0\n",
        "for i in range(len(train_data[:,0])):\n",
        "  if  lower_threshod < train_data[i,4] < upper_threshod:\n",
        "    X.append(train_data[i])\n",
        "  else:\n",
        "    outliter += 1\n",
        "print('There are', outliter, 'outliers in our data')\n",
        "\n",
        "# '''show fist 10 rows of cleaned data X'''\n",
        "display(HTML(tabulate.tabulate(X[:9], headers=attributeNames, showindex='always', tablefmt='html')))\n"
      ],
      "outputs": [
        {
          "output_type": "stream",
          "name": "stdout",
          "text": [
            "observer_ID [213, 623, 213120]\n",
            "There are 3 observers in the train dataset\n",
            "And they are [213, 623, 213120]\n",
            "The average reaction time of all the observers is 0.9465923937360174 s, and the variance is 0.9675626557172228\n",
            "There are 197 outliers in our data\n"
          ]
        },
        {
          "output_type": "display_data",
          "data": {
            "text/html": [
              "<table>\n",
              "<thead>\n",
              "<tr><th style=\"text-align: right;\">  </th><th style=\"text-align: right;\">  subject_id</th><th style=\"text-align: right;\">  trial_number</th><th>stimulus_filename  </th><th>answer     </th><th style=\"text-align: right;\">  reaction_time</th></tr>\n",
              "</thead>\n",
              "<tbody>\n",
              "<tr><td style=\"text-align: right;\"> 0</td><td style=\"text-align: right;\">         213</td><td style=\"text-align: right;\">             2</td><td>ARimage107.png     </td><td>Not smiling</td><td style=\"text-align: right;\">         0.839 </td></tr>\n",
              "<tr><td style=\"text-align: right;\"> 1</td><td style=\"text-align: right;\">         213</td><td style=\"text-align: right;\">             3</td><td>ARimage146.png     </td><td>Not smiling</td><td style=\"text-align: right;\">         0.6857</td></tr>\n",
              "<tr><td style=\"text-align: right;\"> 2</td><td style=\"text-align: right;\">         213</td><td style=\"text-align: right;\">             4</td><td>ARimage244.png     </td><td>Smiling    </td><td style=\"text-align: right;\">         0.7164</td></tr>\n",
              "<tr><td style=\"text-align: right;\"> 3</td><td style=\"text-align: right;\">         213</td><td style=\"text-align: right;\">             5</td><td>ARimage276.png     </td><td>Not smiling</td><td style=\"text-align: right;\">         0.7076</td></tr>\n",
              "<tr><td style=\"text-align: right;\"> 4</td><td style=\"text-align: right;\">         213</td><td style=\"text-align: right;\">             6</td><td>ARimage97.png      </td><td>Not smiling</td><td style=\"text-align: right;\">         0.6863</td></tr>\n",
              "<tr><td style=\"text-align: right;\"> 5</td><td style=\"text-align: right;\">         213</td><td style=\"text-align: right;\">             7</td><td>ARimage168.png     </td><td>Not smiling</td><td style=\"text-align: right;\">         0.9747</td></tr>\n",
              "<tr><td style=\"text-align: right;\"> 6</td><td style=\"text-align: right;\">         213</td><td style=\"text-align: right;\">             8</td><td>ARimage270.png     </td><td>Not smiling</td><td style=\"text-align: right;\">         0.8137</td></tr>\n",
              "<tr><td style=\"text-align: right;\"> 7</td><td style=\"text-align: right;\">         213</td><td style=\"text-align: right;\">            10</td><td>ARimage92.png      </td><td>Smiling    </td><td style=\"text-align: right;\">         0.6519</td></tr>\n",
              "<tr><td style=\"text-align: right;\"> 8</td><td style=\"text-align: right;\">         213</td><td style=\"text-align: right;\">            11</td><td>ARimage36.png      </td><td>Not smiling</td><td style=\"text-align: right;\">         0.7939</td></tr>\n",
              "</tbody>\n",
              "</table>"
            ],
            "text/plain": [
              "<IPython.core.display.HTML object>"
            ]
          },
          "metadata": {}
        }
      ],
      "metadata": {
        "colab": {
          "base_uri": "https://localhost:8080/"
        },
        "id": "hcTWO1tyNyVj",
        "outputId": "dc540682-f3ce-45bd-875a-9c36ce893c3c"
      }
    },
    {
      "cell_type": "markdown",
      "source": [
        "**part of 4.c**"
      ],
      "metadata": {}
    },
    {
      "cell_type": "code",
      "execution_count": 7,
      "source": [
        "'''coding the face emotion results smelling and not smelling to digits'''\n",
        "X = np.array(X)\n",
        "for i in range(len(X[:,0])):\n",
        "  if X[i,3] == 'Smiling':\n",
        "    X[i,3] = 1\n",
        "  else:\n",
        "    X[i,3] = 0\n",
        "\n",
        "# '''show fist 10 rows of cleaned data X'''\n",
        "display(HTML(tabulate.tabulate(X[:9], headers=attributeNames, showindex='always', tablefmt='html')))"
      ],
      "outputs": [
        {
          "output_type": "display_data",
          "data": {
            "text/html": [
              "<table>\n",
              "<thead>\n",
              "<tr><th style=\"text-align: right;\">  </th><th style=\"text-align: right;\">  subject_id</th><th style=\"text-align: right;\">  trial_number</th><th>stimulus_filename  </th><th style=\"text-align: right;\">  answer</th><th style=\"text-align: right;\">  reaction_time</th></tr>\n",
              "</thead>\n",
              "<tbody>\n",
              "<tr><td style=\"text-align: right;\"> 0</td><td style=\"text-align: right;\">         213</td><td style=\"text-align: right;\">             2</td><td>ARimage107.png     </td><td style=\"text-align: right;\">       0</td><td style=\"text-align: right;\">         0.839 </td></tr>\n",
              "<tr><td style=\"text-align: right;\"> 1</td><td style=\"text-align: right;\">         213</td><td style=\"text-align: right;\">             3</td><td>ARimage146.png     </td><td style=\"text-align: right;\">       0</td><td style=\"text-align: right;\">         0.6857</td></tr>\n",
              "<tr><td style=\"text-align: right;\"> 2</td><td style=\"text-align: right;\">         213</td><td style=\"text-align: right;\">             4</td><td>ARimage244.png     </td><td style=\"text-align: right;\">       1</td><td style=\"text-align: right;\">         0.7164</td></tr>\n",
              "<tr><td style=\"text-align: right;\"> 3</td><td style=\"text-align: right;\">         213</td><td style=\"text-align: right;\">             5</td><td>ARimage276.png     </td><td style=\"text-align: right;\">       0</td><td style=\"text-align: right;\">         0.7076</td></tr>\n",
              "<tr><td style=\"text-align: right;\"> 4</td><td style=\"text-align: right;\">         213</td><td style=\"text-align: right;\">             6</td><td>ARimage97.png      </td><td style=\"text-align: right;\">       0</td><td style=\"text-align: right;\">         0.6863</td></tr>\n",
              "<tr><td style=\"text-align: right;\"> 5</td><td style=\"text-align: right;\">         213</td><td style=\"text-align: right;\">             7</td><td>ARimage168.png     </td><td style=\"text-align: right;\">       0</td><td style=\"text-align: right;\">         0.9747</td></tr>\n",
              "<tr><td style=\"text-align: right;\"> 6</td><td style=\"text-align: right;\">         213</td><td style=\"text-align: right;\">             8</td><td>ARimage270.png     </td><td style=\"text-align: right;\">       0</td><td style=\"text-align: right;\">         0.8137</td></tr>\n",
              "<tr><td style=\"text-align: right;\"> 7</td><td style=\"text-align: right;\">         213</td><td style=\"text-align: right;\">            10</td><td>ARimage92.png      </td><td style=\"text-align: right;\">       1</td><td style=\"text-align: right;\">         0.6519</td></tr>\n",
              "<tr><td style=\"text-align: right;\"> 8</td><td style=\"text-align: right;\">         213</td><td style=\"text-align: right;\">            11</td><td>ARimage36.png      </td><td style=\"text-align: right;\">       0</td><td style=\"text-align: right;\">         0.7939</td></tr>\n",
              "</tbody>\n",
              "</table>"
            ],
            "text/plain": [
              "<IPython.core.display.HTML object>"
            ]
          },
          "metadata": {}
        }
      ],
      "metadata": {}
    },
    {
      "cell_type": "markdown",
      "source": [
        "### Normalise the reaction times for each person and then pool them into one data set.\n",
        "**finish 4.c**\n",
        "There are many kinds of normalise methods:\n",
        "1. z = (x - u) / s\n",
        "2. z = (x - u)"
      ],
      "metadata": {
        "id": "EHKT6Bo_RFO-"
      }
    },
    {
      "cell_type": "code",
      "execution_count": 8,
      "source": [
        "plt.rcParams['figure.dpi'] = 200  # setting the \n",
        "# names = locals()\n",
        "names = {}\n",
        "for i in range(N):\n",
        "  names['observer' + str(i)] = []\n",
        "\n",
        "\n",
        "for j in range(len(X[:,0])):\n",
        "  for i in range(N):\n",
        "    # Zhijian Feng 21.30.21.05\n",
        "    # if X[j,0] == observor_ID[i]:\n",
        "    if X[j,0] == observer_ID[i]:\n",
        "      names['observer' + str(i)].append(X[j])\n",
        "\n",
        "# convert the list to numpy array and Normalization\n",
        "for i in range(N):\n",
        "  names['observer' + str(i)] = np.array(names['observer' + str(i)])\n",
        "  tmp_mean = names['observer' + str(i)][:,4].mean()\n",
        "  tmp_std = names['observer' + str(i)][:,4].std()\n",
        "  temp_normal = ((names['observer' + str(i)][:,4]- tmp_mean) / tmp_std)\n",
        "  temp_normal = np.reshape(temp_normal,(len(temp_normal),1))\n",
        "  names['observer' + str(i)] = np.hstack((names['observer' + str(i)],temp_normal))\n",
        "\n",
        "# print(names['observer0'][:,1])\n",
        "# 现在整个数据结构就是，names这个dict用来存所有的数据，里面用 “observer$num.format(test_number,%d)\" 来索引每一个用户。\n",
        "# 然后里面每一个observer里面的结构是一个二维数组，保持原来的特性 \n",
        "# 二维数组的属性：subject_id, trial_number, stimulus_filename, answer, reaction_time, normal_value\n",
        "\n",
        "\n",
        "# for i in range(N):\n",
        "#   # names['observer' + str(i)] = np.array(names['observer' + str(i)])\n",
        "#   # observer_mean = names['observer' + str(i)][:,4].mean()\n",
        "#   # observer_std = names['observer' + str(i)][:,4].std()\n",
        "#   # names['observer' + str(i) + '_normal'] = ((names['observer' + str(i)][:,4]- observer_mean) / observer_std).flatten()\n",
        "#   # print(names['observer' + str(i) + '_normal'].shape)\n",
        "#   # print(names['observer' + str(i) + '_normal'].flatten())\n",
        "#   plt.subplot(1, N, i+1)\n",
        "#   plt.hist(names['observer' + str(i)][:,5], bins=20)\n",
        "#   # plt.title('observer' + str(i) + '[' + str(observer_ID[i]) + ']')\n",
        "#   plt.title('observer' + str(i))\n",
        "#   plt.xlabel('ReactTimeSpan')\n",
        "#   plt.ylabel('Distribution')\n",
        "#   plt.tight_layout(pad=0.4, w_pad=1, h_pad=1.0)\n"
      ],
      "outputs": [],
      "metadata": {
        "colab": {
          "base_uri": "https://localhost:8080/",
          "height": 316
        },
        "id": "cgf5Ae5MRHDK",
        "outputId": "63ccfa88-be6e-45fd-e1c0-705c841507db"
      }
    },
    {
      "cell_type": "markdown",
      "source": [
        "**finish 5.a**"
      ],
      "metadata": {}
    },
    {
      "cell_type": "code",
      "execution_count": 9,
      "source": [
        "import cv2\n",
        "import os\n",
        "import pdb\n",
        "\n",
        "image_path = r'/Users/francis/Desktop/DTU/classes/02458/ARArchive/'\n",
        "\n",
        "all_image_values = np.zeros((50,50),dtype=np.uint16)\n",
        "# all_image_values = cv2.cvtColor(all_image_values, cv2.COLOR_GRAY2BGR)\n",
        "\n",
        "ori_imgs = []\n",
        "for f_name in os.listdir(image_path):\n",
        "\n",
        "    if f_name == \".DS_Store\":\n",
        "        continue\n",
        "\n",
        "    tmp_path = os.path.join(image_path,f_name)\n",
        "    img = cv2.imread(tmp_path,-1)\n",
        "    ori_imgs.append(img)\n",
        "    for i in range(3):\n",
        "        all_image_values[:,:] = all_image_values[:,:] + img[:,:]\n",
        "\n",
        "ori_imgs = np.array(ori_imgs)\n",
        "mean_value = all_image_values / (len(os.listdir(image_path))-1)\n",
        "\n",
        "for i in range(len(ori_imgs)):\n",
        "    ori_imgs[i] = ori_imgs[i] - mean_value\n",
        "\n",
        "print(ori_imgs.shape)\n",
        "\n"
      ],
      "outputs": [
        {
          "output_type": "stream",
          "name": "stdout",
          "text": [
            "(298, 50, 50)\n"
          ]
        }
      ],
      "metadata": {}
    },
    {
      "cell_type": "markdown",
      "source": [
        "**finish5.b**"
      ],
      "metadata": {}
    },
    {
      "cell_type": "code",
      "execution_count": 15,
      "source": [
        "import scipy\n",
        "import scipy.linalg as linalg\n",
        "import matplotlib.pyplot as plt\n",
        "\n",
        "\n",
        "# Obtain the PCA solution  by calculate the SVD of Y\n",
        "\n",
        "# sequence\n",
        "sequence_imgs = []\n",
        "for i in range(len(ori_imgs)):\n",
        "    sequence_imgs.append(ori_imgs[i].reshape(1,50*50))\n",
        "\n",
        "sequence_imgs = np.array(sequence_imgs)\n",
        "d_1,d_2,d_3 = sequence_imgs.shape\n",
        "sequence_imgs = np.reshape(sequence_imgs,(d_1,d_3))\n",
        "\n",
        "# print(ssequence_imgs.shape)\n",
        "\n",
        "U,S,V = linalg.svd(sequence_imgs,full_matrices=False)\n",
        "V = V.T\n",
        "# Compute variance explained by principal components\n",
        "rho = (S*S) / (S*S).sum() \n",
        "\n",
        "# plt.show(np.reshape(sequence_imgs[0]),(50,50))\n",
        "# print(sequence_imgs[0].shape)\n",
        "# cv2.imshow(\"11\",V0)\n",
        "# cv2.waitKey(1)\n",
        "# Project data onto principal component space\n",
        "Z = sequence_imgs @ V[:,50] \n",
        "print(\"V.shape\",V.shape)\n",
        "print(\"sequence_imgs.shape\",sequence_imgs.shape)\n",
        "print(\"Z.shape\",Z.shape)\n",
        "\n",
        "threshold = 0.9\n",
        "\n",
        "# Plot variance explained\n",
        "plt.figure()\n",
        "plt.plot(range(1,len(rho)+1),rho,'x-')                  # 绘制各在成分上投影的方差\n",
        "plt.plot(range(1,len(rho)+1),np.cumsum(rho),'o-')       # 绘制各成分累加的可解释变异或课解释方差\n",
        "plt.plot([1,len(rho)],[threshold, threshold],'k--')     # 绘制压缩要求阈值\n",
        "plt.title('Variance explained by principal components')\n",
        "plt.xlabel('Principal component')\n",
        "plt.ylabel('Variance explained')\n",
        "plt.legend(['Individual','Cumulative','Threshold'])\n",
        "plt.grid()\n",
        "plt.show()\n",
        "\n",
        "print(Z.shape)\n",
        "\n",
        "\n",
        "# # Plot PCA of the data\n",
        "# f = plt.figure()\n",
        "# plt.title('pixel vectors of handwr. digits projected on PCs')\n",
        "# n = [0,1,2,3]\n",
        "# for c in n:\n",
        "#     # select indices belonging to class c:\n",
        "#     class_mask = (y == c)\n",
        "#     plt.plot(Z[class_mask,0], Z[class_mask,1], 'o')\n",
        "# plt.legend(\"classNames\")\n",
        "# plt.xlabel('PC1')\n",
        "# plt.ylabel('PC2')\n"
      ],
      "outputs": [
        {
          "output_type": "stream",
          "name": "stdout",
          "text": [
            "V.shape (2500, 298)\n",
            "sequence_imgs.shape (298, 2500)\n",
            "Z.shape (298,)\n",
            "(298,)\n"
          ]
        },
        {
          "output_type": "display_data",
          "data": {
            "image/png": "[encoded data removed]",
            "text/plain": [
              "<Figure size 1200x800 with 1 Axes>"
            ]
          },
          "metadata": {
            "needs_background": "light"
          }
        }
      ],
      "metadata": {}
    },
    {
      "cell_type": "code",
      "execution_count": 12,
      "source": [
        "for c in result_dits:\n",
        "  plt.subplot(1, 2, c+1)\n",
        "  for i in range(N):\n",
        "    # select indices belonging to class c:\n",
        "    class_mask = names['observer' + str(i)][:,3]==c # range(len(names['observer' + str(i)][class_mask,0]))\n",
        "    plt.plot([i+1 for j in names['observer' + str(i) + '_normal'][class_mask]], names['observer' + str(i) + '_normal'][class_mask], 'o', alpha=.3)\n",
        "  plt.legend(['observer' + str(j) + '[' + str(observor_ID[j]) + ']' for j in range(N)], frameon=False, loc='lower center')\n",
        "  plt.title(result[c])\n",
        "  plt.ylabel('React Time')\n",
        "  plt.xlabel('Observer')\n",
        "  plt.tight_layout(pad=0.4, w_pad=2, h_pad=1.0)\n"
      ],
      "outputs": [
        {
          "output_type": "error",
          "ename": "KeyError",
          "evalue": "'observer0_normal'",
          "traceback": [
            "\u001b[0;31m---------------------------------------------------------------------------\u001b[0m",
            "\u001b[0;31mKeyError\u001b[0m                                  Traceback (most recent call last)",
            "\u001b[0;32m<ipython-input-12-7ff7e2717897>\u001b[0m in \u001b[0;36m<module>\u001b[0;34m\u001b[0m\n\u001b[1;32m      4\u001b[0m     \u001b[0;31m# select indices belonging to class c:\u001b[0m\u001b[0;34m\u001b[0m\u001b[0;34m\u001b[0m\u001b[0;34m\u001b[0m\u001b[0m\n\u001b[1;32m      5\u001b[0m     \u001b[0mclass_mask\u001b[0m \u001b[0;34m=\u001b[0m \u001b[0mnames\u001b[0m\u001b[0;34m[\u001b[0m\u001b[0;34m'observer'\u001b[0m \u001b[0;34m+\u001b[0m \u001b[0mstr\u001b[0m\u001b[0;34m(\u001b[0m\u001b[0mi\u001b[0m\u001b[0;34m)\u001b[0m\u001b[0;34m]\u001b[0m\u001b[0;34m[\u001b[0m\u001b[0;34m:\u001b[0m\u001b[0;34m,\u001b[0m\u001b[0;36m3\u001b[0m\u001b[0;34m]\u001b[0m\u001b[0;34m==\u001b[0m\u001b[0mc\u001b[0m \u001b[0;31m# range(len(names['observer' + str(i)][class_mask,0]))\u001b[0m\u001b[0;34m\u001b[0m\u001b[0;34m\u001b[0m\u001b[0m\n\u001b[0;32m----> 6\u001b[0;31m     \u001b[0mplt\u001b[0m\u001b[0;34m.\u001b[0m\u001b[0mplot\u001b[0m\u001b[0;34m(\u001b[0m\u001b[0;34m[\u001b[0m\u001b[0mi\u001b[0m\u001b[0;34m+\u001b[0m\u001b[0;36m1\u001b[0m \u001b[0;32mfor\u001b[0m \u001b[0mj\u001b[0m \u001b[0;32min\u001b[0m \u001b[0mnames\u001b[0m\u001b[0;34m[\u001b[0m\u001b[0;34m'observer'\u001b[0m \u001b[0;34m+\u001b[0m \u001b[0mstr\u001b[0m\u001b[0;34m(\u001b[0m\u001b[0mi\u001b[0m\u001b[0;34m)\u001b[0m \u001b[0;34m+\u001b[0m \u001b[0;34m'_normal'\u001b[0m\u001b[0;34m]\u001b[0m\u001b[0;34m[\u001b[0m\u001b[0mclass_mask\u001b[0m\u001b[0;34m]\u001b[0m\u001b[0;34m]\u001b[0m\u001b[0;34m,\u001b[0m \u001b[0mnames\u001b[0m\u001b[0;34m[\u001b[0m\u001b[0;34m'observer'\u001b[0m \u001b[0;34m+\u001b[0m \u001b[0mstr\u001b[0m\u001b[0;34m(\u001b[0m\u001b[0mi\u001b[0m\u001b[0;34m)\u001b[0m \u001b[0;34m+\u001b[0m \u001b[0;34m'_normal'\u001b[0m\u001b[0;34m]\u001b[0m\u001b[0;34m[\u001b[0m\u001b[0mclass_mask\u001b[0m\u001b[0;34m]\u001b[0m\u001b[0;34m,\u001b[0m \u001b[0;34m'o'\u001b[0m\u001b[0;34m,\u001b[0m \u001b[0malpha\u001b[0m\u001b[0;34m=\u001b[0m\u001b[0;36m.3\u001b[0m\u001b[0;34m)\u001b[0m\u001b[0;34m\u001b[0m\u001b[0;34m\u001b[0m\u001b[0m\n\u001b[0m\u001b[1;32m      7\u001b[0m   \u001b[0mplt\u001b[0m\u001b[0;34m.\u001b[0m\u001b[0mlegend\u001b[0m\u001b[0;34m(\u001b[0m\u001b[0;34m[\u001b[0m\u001b[0;34m'observer'\u001b[0m \u001b[0;34m+\u001b[0m \u001b[0mstr\u001b[0m\u001b[0;34m(\u001b[0m\u001b[0mj\u001b[0m\u001b[0;34m)\u001b[0m \u001b[0;34m+\u001b[0m \u001b[0;34m'['\u001b[0m \u001b[0;34m+\u001b[0m \u001b[0mstr\u001b[0m\u001b[0;34m(\u001b[0m\u001b[0mobservor_ID\u001b[0m\u001b[0;34m[\u001b[0m\u001b[0mj\u001b[0m\u001b[0;34m]\u001b[0m\u001b[0;34m)\u001b[0m \u001b[0;34m+\u001b[0m \u001b[0;34m']'\u001b[0m \u001b[0;32mfor\u001b[0m \u001b[0mj\u001b[0m \u001b[0;32min\u001b[0m \u001b[0mrange\u001b[0m\u001b[0;34m(\u001b[0m\u001b[0mN\u001b[0m\u001b[0;34m)\u001b[0m\u001b[0;34m]\u001b[0m\u001b[0;34m,\u001b[0m \u001b[0mframeon\u001b[0m\u001b[0;34m=\u001b[0m\u001b[0;32mFalse\u001b[0m\u001b[0;34m,\u001b[0m \u001b[0mloc\u001b[0m\u001b[0;34m=\u001b[0m\u001b[0;34m'lower center'\u001b[0m\u001b[0;34m)\u001b[0m\u001b[0;34m\u001b[0m\u001b[0;34m\u001b[0m\u001b[0m\n\u001b[1;32m      8\u001b[0m   \u001b[0mplt\u001b[0m\u001b[0;34m.\u001b[0m\u001b[0mtitle\u001b[0m\u001b[0;34m(\u001b[0m\u001b[0mresult\u001b[0m\u001b[0;34m[\u001b[0m\u001b[0mc\u001b[0m\u001b[0;34m]\u001b[0m\u001b[0;34m)\u001b[0m\u001b[0;34m\u001b[0m\u001b[0;34m\u001b[0m\u001b[0m\n",
            "\u001b[0;31mKeyError\u001b[0m: 'observer0_normal'"
          ]
        },
        {
          "output_type": "display_data",
          "data": {
            "image/png": "[encoded data removed]",
            "text/plain": [
              "<Figure size 1200x800 with 1 Axes>"
            ]
          },
          "metadata": {
            "needs_background": "light"
          }
        }
      ],
      "metadata": {}
    }
  ]
}